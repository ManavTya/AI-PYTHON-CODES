{
 "cells": [
  {
   "cell_type": "code",
   "execution_count": 162,
   "id": "968c0fd6",
   "metadata": {},
   "outputs": [],
   "source": [
    "import numpy as np "
   ]
  },
  {
   "cell_type": "code",
   "execution_count": 163,
   "id": "bf3504a5",
   "metadata": {},
   "outputs": [],
   "source": [
    "array = np.array([[[1, 0], [2, 3], [3, 6]], [[1, 0], [2, 3], [3, 6]], [[1, 0], [2, 3], [3, 6]]])"
   ]
  },
  {
   "cell_type": "code",
   "execution_count": 164,
   "id": "2263efb8",
   "metadata": {},
   "outputs": [
    {
     "data": {
      "text/plain": [
       "array([[[1, 0],\n",
       "        [2, 3],\n",
       "        [3, 6]],\n",
       "\n",
       "       [[1, 0],\n",
       "        [2, 3],\n",
       "        [3, 6]],\n",
       "\n",
       "       [[1, 0],\n",
       "        [2, 3],\n",
       "        [3, 6]]])"
      ]
     },
     "execution_count": 164,
     "metadata": {},
     "output_type": "execute_result"
    }
   ],
   "source": [
    "array"
   ]
  },
  {
   "cell_type": "code",
   "execution_count": 165,
   "id": "e4e0bcf6",
   "metadata": {},
   "outputs": [
    {
     "data": {
      "text/plain": [
       "(3, 3, 2)"
      ]
     },
     "execution_count": 165,
     "metadata": {},
     "output_type": "execute_result"
    }
   ],
   "source": [
    "array.shape"
   ]
  },
  {
   "cell_type": "code",
   "execution_count": 166,
   "id": "e44475ca",
   "metadata": {},
   "outputs": [],
   "source": [
    "a = [1, 2, 3, 'hello', 2.2, range]"
   ]
  },
  {
   "cell_type": "code",
   "execution_count": 167,
   "id": "aba3bc67",
   "metadata": {},
   "outputs": [],
   "source": [
    "a = np.array(a, dtype = 'str')"
   ]
  },
  {
   "cell_type": "code",
   "execution_count": 168,
   "id": "d17669ae",
   "metadata": {},
   "outputs": [
    {
     "data": {
      "text/plain": [
       "array(['1', '2', '3', 'hello', '2.2', \"<class 'range'>\"], dtype='<U15')"
      ]
     },
     "execution_count": 168,
     "metadata": {},
     "output_type": "execute_result"
    }
   ],
   "source": [
    "a"
   ]
  },
  {
   "cell_type": "code",
   "execution_count": 169,
   "id": "b8f93eba",
   "metadata": {},
   "outputs": [
    {
     "name": "stdout",
     "output_type": "stream",
     "text": [
      "<class 'str'> 12\n"
     ]
    }
   ],
   "source": [
    "print(type(a[0] + a[1]), a[0] + a[1])"
   ]
  },
  {
   "cell_type": "code",
   "execution_count": 170,
   "id": "eab4829f",
   "metadata": {},
   "outputs": [],
   "source": [
    "mat = np.full((2, 4), 0.3)"
   ]
  },
  {
   "cell_type": "code",
   "execution_count": 171,
   "id": "72771a74",
   "metadata": {},
   "outputs": [
    {
     "data": {
      "text/plain": [
       "array([[0.3, 0.3, 0.3, 0.3],\n",
       "       [0.3, 0.3, 0.3, 0.3]])"
      ]
     },
     "execution_count": 171,
     "metadata": {},
     "output_type": "execute_result"
    }
   ],
   "source": [
    "mat"
   ]
  },
  {
   "cell_type": "code",
   "execution_count": 172,
   "id": "7dfc4512",
   "metadata": {},
   "outputs": [],
   "source": [
    "mat = np.full((3, 3), 1)"
   ]
  },
  {
   "cell_type": "code",
   "execution_count": 173,
   "id": "aab5144c",
   "metadata": {},
   "outputs": [
    {
     "data": {
      "text/plain": [
       "array([[1, 1, 1],\n",
       "       [1, 1, 1],\n",
       "       [1, 1, 1]])"
      ]
     },
     "execution_count": 173,
     "metadata": {},
     "output_type": "execute_result"
    }
   ],
   "source": [
    "mat"
   ]
  },
  {
   "cell_type": "code",
   "execution_count": 174,
   "id": "a8110aa6",
   "metadata": {},
   "outputs": [],
   "source": [
    "mat = np.eye(4, k=-0, dtype = np.int8)"
   ]
  },
  {
   "cell_type": "code",
   "execution_count": 175,
   "id": "e07f5018",
   "metadata": {},
   "outputs": [
    {
     "data": {
      "text/plain": [
       "array([[1, 0, 0, 0],\n",
       "       [0, 1, 0, 0],\n",
       "       [0, 0, 1, 0],\n",
       "       [0, 0, 0, 1]], dtype=int8)"
      ]
     },
     "execution_count": 175,
     "metadata": {},
     "output_type": "execute_result"
    }
   ],
   "source": [
    "mat"
   ]
  },
  {
   "cell_type": "code",
   "execution_count": 176,
   "id": "0b4deee9",
   "metadata": {},
   "outputs": [],
   "source": [
    "mat = np.random.random((2, 6))"
   ]
  },
  {
   "cell_type": "code",
   "execution_count": 177,
   "id": "07446014",
   "metadata": {},
   "outputs": [
    {
     "data": {
      "text/plain": [
       "array([[0.42546109, 0.73558795, 0.44343489, 0.38749945, 0.12591689,\n",
       "        0.89556766],\n",
       "       [0.45534966, 0.21865135, 0.02329695, 0.33903122, 0.79656268,\n",
       "        0.59244306]])"
      ]
     },
     "execution_count": 177,
     "metadata": {},
     "output_type": "execute_result"
    }
   ],
   "source": [
    "mat"
   ]
  },
  {
   "cell_type": "code",
   "execution_count": 178,
   "id": "308aa735",
   "metadata": {},
   "outputs": [],
   "source": [
    "mat = np.random.rand(2, 8, 2)"
   ]
  },
  {
   "cell_type": "code",
   "execution_count": 179,
   "id": "aaaad1f1",
   "metadata": {},
   "outputs": [
    {
     "data": {
      "text/plain": [
       "array([[[0.50268215, 0.55620253],\n",
       "        [0.03661292, 0.95867103],\n",
       "        [0.92655196, 0.68072216],\n",
       "        [0.6153209 , 0.50428171],\n",
       "        [0.23458576, 0.73939499],\n",
       "        [0.64146048, 0.14909716],\n",
       "        [0.34919457, 0.20020666],\n",
       "        [0.25072061, 0.56003023]],\n",
       "\n",
       "       [[0.81442903, 0.20295333],\n",
       "        [0.88137712, 0.37886034],\n",
       "        [0.96688052, 0.56840613],\n",
       "        [0.9639862 , 0.18922331],\n",
       "        [0.7517482 , 0.07309609],\n",
       "        [0.84040243, 0.34402814],\n",
       "        [0.93494378, 0.7058788 ],\n",
       "        [0.00446939, 0.03111911]]])"
      ]
     },
     "execution_count": 179,
     "metadata": {},
     "output_type": "execute_result"
    }
   ],
   "source": [
    "mat"
   ]
  },
  {
   "cell_type": "code",
   "execution_count": 180,
   "id": "b6d5a035",
   "metadata": {},
   "outputs": [],
   "source": [
    "mat_random = np.random.randn(2, 8, 2)"
   ]
  },
  {
   "cell_type": "code",
   "execution_count": 181,
   "id": "894bc258",
   "metadata": {},
   "outputs": [
    {
     "data": {
      "text/plain": [
       "array([[[0.50268215, 0.55620253],\n",
       "        [0.03661292, 0.95867103],\n",
       "        [0.92655196, 0.68072216],\n",
       "        [0.6153209 , 0.50428171],\n",
       "        [0.23458576, 0.73939499],\n",
       "        [0.64146048, 0.14909716],\n",
       "        [0.34919457, 0.20020666],\n",
       "        [0.25072061, 0.56003023]],\n",
       "\n",
       "       [[0.81442903, 0.20295333],\n",
       "        [0.88137712, 0.37886034],\n",
       "        [0.96688052, 0.56840613],\n",
       "        [0.9639862 , 0.18922331],\n",
       "        [0.7517482 , 0.07309609],\n",
       "        [0.84040243, 0.34402814],\n",
       "        [0.93494378, 0.7058788 ],\n",
       "        [0.00446939, 0.03111911]]])"
      ]
     },
     "execution_count": 181,
     "metadata": {},
     "output_type": "execute_result"
    }
   ],
   "source": [
    "mat"
   ]
  },
  {
   "cell_type": "code",
   "execution_count": 182,
   "id": "69d27c4d",
   "metadata": {},
   "outputs": [],
   "source": [
    "mat = np.full((2, 3), 2)"
   ]
  },
  {
   "cell_type": "code",
   "execution_count": 183,
   "id": "5d3872c5",
   "metadata": {},
   "outputs": [
    {
     "data": {
      "text/plain": [
       "array([[2, 2, 2],\n",
       "       [2, 2, 2]])"
      ]
     },
     "execution_count": 183,
     "metadata": {},
     "output_type": "execute_result"
    }
   ],
   "source": [
    "mat"
   ]
  },
  {
   "cell_type": "code",
   "execution_count": 184,
   "id": "32a61178",
   "metadata": {},
   "outputs": [],
   "source": [
    "mat = np.zeros((2, 3))"
   ]
  },
  {
   "cell_type": "code",
   "execution_count": 185,
   "id": "112fc1ef",
   "metadata": {},
   "outputs": [
    {
     "data": {
      "text/plain": [
       "array([[0., 0., 0.],\n",
       "       [0., 0., 0.]])"
      ]
     },
     "execution_count": 185,
     "metadata": {},
     "output_type": "execute_result"
    }
   ],
   "source": [
    "mat"
   ]
  },
  {
   "cell_type": "code",
   "execution_count": 186,
   "id": "38fa4e83",
   "metadata": {},
   "outputs": [],
   "source": [
    "mat = np.zeros_like(mat_random)"
   ]
  },
  {
   "cell_type": "code",
   "execution_count": 187,
   "id": "8c2a4e67",
   "metadata": {},
   "outputs": [
    {
     "data": {
      "text/plain": [
       "array([[[0., 0.],\n",
       "        [0., 0.],\n",
       "        [0., 0.],\n",
       "        [0., 0.],\n",
       "        [0., 0.],\n",
       "        [0., 0.],\n",
       "        [0., 0.],\n",
       "        [0., 0.]],\n",
       "\n",
       "       [[0., 0.],\n",
       "        [0., 0.],\n",
       "        [0., 0.],\n",
       "        [0., 0.],\n",
       "        [0., 0.],\n",
       "        [0., 0.],\n",
       "        [0., 0.],\n",
       "        [0., 0.]]])"
      ]
     },
     "execution_count": 187,
     "metadata": {},
     "output_type": "execute_result"
    }
   ],
   "source": [
    "mat"
   ]
  },
  {
   "cell_type": "code",
   "execution_count": 188,
   "id": "a8736852",
   "metadata": {},
   "outputs": [],
   "source": [
    "X = np.array([[1, 2], [3, 4]])\n",
    "Y = np.array([[5, 6], [7, 8]])"
   ]
  },
  {
   "cell_type": "code",
   "execution_count": 189,
   "id": "290c3ebe",
   "metadata": {},
   "outputs": [
    {
     "name": "stdout",
     "output_type": "stream",
     "text": [
      "(2, 2) (2, 2)\n"
     ]
    }
   ],
   "source": [
    "print(X.shape, Y.shape)"
   ]
  },
  {
   "cell_type": "code",
   "execution_count": 190,
   "id": "b6abf1b2",
   "metadata": {},
   "outputs": [
    {
     "name": "stdout",
     "output_type": "stream",
     "text": [
      "[[ 6  8]\n",
      " [10 12]] [[ 6  8]\n",
      " [10 12]]\n"
     ]
    }
   ],
   "source": [
    "print(X + Y, np.add(X, Y))"
   ]
  },
  {
   "cell_type": "code",
   "execution_count": 191,
   "id": "aeed3316",
   "metadata": {},
   "outputs": [
    {
     "data": {
      "text/plain": [
       "True"
      ]
     },
     "execution_count": 191,
     "metadata": {},
     "output_type": "execute_result"
    }
   ],
   "source": [
    "isinstance(X, np.ndarray)"
   ]
  },
  {
   "cell_type": "code",
   "execution_count": 192,
   "id": "279c41a5",
   "metadata": {},
   "outputs": [
    {
     "name": "stdout",
     "output_type": "stream",
     "text": [
      "[[-4 -4]\n",
      " [-4 -4]] [[-4 -4]\n",
      " [-4 -4]]\n"
     ]
    }
   ],
   "source": [
    "print(X - Y, np.subtract(X, Y))"
   ]
  },
  {
   "cell_type": "code",
   "execution_count": 193,
   "id": "6b273317",
   "metadata": {},
   "outputs": [
    {
     "name": "stdout",
     "output_type": "stream",
     "text": [
      "[[ 5 12]\n",
      " [21 32]] [[ 5 12]\n",
      " [21 32]]\n"
     ]
    }
   ],
   "source": [
    "print(X * Y, np.multiply(X, Y))"
   ]
  },
  {
   "cell_type": "code",
   "execution_count": 194,
   "id": "e95e754c",
   "metadata": {},
   "outputs": [
    {
     "name": "stdout",
     "output_type": "stream",
     "text": [
      "[[19 22]\n",
      " [43 50]] [[19 22]\n",
      " [43 50]]\n"
     ]
    }
   ],
   "source": [
    "print(np.matmul(X, Y), X@Y)"
   ]
  },
  {
   "cell_type": "code",
   "execution_count": 195,
   "id": "675a06a2",
   "metadata": {},
   "outputs": [
    {
     "name": "stdout",
     "output_type": "stream",
     "text": [
      "[[19 22]\n",
      " [43 50]]\n"
     ]
    }
   ],
   "source": [
    "print(np.dot(X, Y))"
   ]
  },
  {
   "cell_type": "code",
   "execution_count": 196,
   "id": "52a55afa",
   "metadata": {},
   "outputs": [
    {
     "name": "stdout",
     "output_type": "stream",
     "text": [
      "[[0.2        0.33333333]\n",
      " [0.42857143 0.5       ]] [[0.2        0.33333333]\n",
      " [0.42857143 0.5       ]]\n"
     ]
    }
   ],
   "source": [
    "print(X/Y, np.divide(X,Y))"
   ]
  },
  {
   "cell_type": "code",
   "execution_count": 197,
   "id": "3b2b260f",
   "metadata": {},
   "outputs": [
    {
     "name": "stdout",
     "output_type": "stream",
     "text": [
      "[[1.         1.41421356]\n",
      " [1.73205081 2.        ]]\n"
     ]
    }
   ],
   "source": [
    "print(np.sqrt(X))"
   ]
  },
  {
   "cell_type": "code",
   "execution_count": 198,
   "id": "9fc3fc6f",
   "metadata": {},
   "outputs": [
    {
     "name": "stdout",
     "output_type": "stream",
     "text": [
      "[[2.23606798 2.44948974]\n",
      " [2.64575131 2.82842712]]\n"
     ]
    }
   ],
   "source": [
    "print(np.sqrt(Y))"
   ]
  },
  {
   "cell_type": "code",
   "execution_count": 199,
   "id": "2877395a",
   "metadata": {},
   "outputs": [
    {
     "data": {
      "text/plain": [
       "array([[[ 6.17886023, 15.34736754],\n",
       "        [ 6.13582593,  5.72692237],\n",
       "        [ 4.39478178, 10.77516772],\n",
       "        [11.77371166,  3.19611892],\n",
       "        [20.40241776, 10.82992696],\n",
       "        [ 9.72939645, -2.94463739],\n",
       "        [ 6.294842  , 10.29350369],\n",
       "        [15.79771641,  9.38071392]],\n",
       "\n",
       "       [[12.78640787, 15.39001716],\n",
       "        [15.32245661, 10.93171085],\n",
       "        [ 6.07906131, 14.22000679],\n",
       "        [ 9.43813792, 12.33064658],\n",
       "        [ 7.62737284, 11.52630529],\n",
       "        [ 5.15575356, 14.66413492],\n",
       "        [ 5.17180348,  7.96951385],\n",
       "        [11.79541393,  3.774652  ]]])"
      ]
     },
     "execution_count": 199,
     "metadata": {},
     "output_type": "execute_result"
    }
   ],
   "source": [
    "(mat_random*5) + 10"
   ]
  },
  {
   "cell_type": "code",
   "execution_count": 200,
   "id": "3d45df1a",
   "metadata": {},
   "outputs": [],
   "source": [
    "a = np.array([1, 2, 3, 4, 5])\n",
    "b = np.array([1, 2, 3, 4, 5])"
   ]
  },
  {
   "cell_type": "code",
   "execution_count": 201,
   "id": "16a77fd0",
   "metadata": {},
   "outputs": [],
   "source": [
    "b = b**2"
   ]
  },
  {
   "cell_type": "code",
   "execution_count": 202,
   "id": "ad4529e7",
   "metadata": {},
   "outputs": [
    {
     "name": "stdout",
     "output_type": "stream",
     "text": [
      "(5,) (5,)\n"
     ]
    }
   ],
   "source": [
    "print(a.shape, b.shape)"
   ]
  },
  {
   "cell_type": "code",
   "execution_count": 203,
   "id": "5f18c259",
   "metadata": {},
   "outputs": [
    {
     "data": {
      "text/plain": [
       "array([[ 1,  1],\n",
       "       [ 2,  4],\n",
       "       [ 3,  9],\n",
       "       [ 4, 16],\n",
       "       [ 5, 25]])"
      ]
     },
     "execution_count": 203,
     "metadata": {},
     "output_type": "execute_result"
    }
   ],
   "source": [
    "np.stack((a, b), axis = 1)"
   ]
  },
  {
   "cell_type": "code",
   "execution_count": 204,
   "id": "c96cff4d",
   "metadata": {},
   "outputs": [
    {
     "data": {
      "text/plain": [
       "array([[ 1,  2,  3,  4,  5],\n",
       "       [ 1,  4,  9, 16, 25]])"
      ]
     },
     "execution_count": 204,
     "metadata": {},
     "output_type": "execute_result"
    }
   ],
   "source": [
    "np.stack((a, b), axis = 0)"
   ]
  },
  {
   "cell_type": "code",
   "execution_count": 205,
   "id": "555662e6",
   "metadata": {},
   "outputs": [
    {
     "data": {
      "text/plain": [
       "array([ 1,  2,  3,  4,  5,  1,  4,  9, 16, 25])"
      ]
     },
     "execution_count": 205,
     "metadata": {},
     "output_type": "execute_result"
    }
   ],
   "source": [
    "np.hstack((a, b))"
   ]
  },
  {
   "cell_type": "code",
   "execution_count": 206,
   "id": "e0595c73",
   "metadata": {},
   "outputs": [
    {
     "data": {
      "text/plain": [
       "array([[ 1,  2,  3,  4,  5],\n",
       "       [ 1,  4,  9, 16, 25]])"
      ]
     },
     "execution_count": 206,
     "metadata": {},
     "output_type": "execute_result"
    }
   ],
   "source": [
    "np.vstack((a, b))"
   ]
  },
  {
   "cell_type": "code",
   "execution_count": 209,
   "id": "67ad945e",
   "metadata": {},
   "outputs": [
    {
     "name": "stdout",
     "output_type": "stream",
     "text": [
      "[[1 2]\n",
      " [3 4]] [[5 6]\n",
      " [7 8]]\n"
     ]
    }
   ],
   "source": [
    "print(X, Y)"
   ]
  },
  {
   "cell_type": "code",
   "execution_count": 212,
   "id": "794070f2",
   "metadata": {},
   "outputs": [
    {
     "name": "stdout",
     "output_type": "stream",
     "text": [
      "[[1 2 5 6]\n",
      " [3 4 7 8]]\n",
      "[[1 2]\n",
      " [3 4]\n",
      " [5 6]\n",
      " [7 8]]\n"
     ]
    }
   ],
   "source": [
    "print(np.hstack((X, Y)))\n",
    "print(np.vstack((X, Y)))"
   ]
  },
  {
   "cell_type": "code",
   "execution_count": 213,
   "id": "a6e89e29",
   "metadata": {},
   "outputs": [
    {
     "name": "stdout",
     "output_type": "stream",
     "text": [
      "(2, 4)\n",
      "(4, 2)\n"
     ]
    }
   ],
   "source": [
    "print(np.hstack((X, Y)).shape)\n",
    "print(np.vstack((X, Y)).shape)"
   ]
  },
  {
   "cell_type": "code",
   "execution_count": 230,
   "id": "23c7e1b2",
   "metadata": {},
   "outputs": [
    {
     "name": "stdout",
     "output_type": "stream",
     "text": [
      "[[1 2]\n",
      " [5 6]\n",
      " [3 4]\n",
      " [7 8]]\n",
      "[[1 2]\n",
      " [3 4]\n",
      " [5 6]\n",
      " [7 8]]\n"
     ]
    }
   ],
   "source": [
    "print(np.hstack((X, Y)).reshape(4, 2))\n",
    "print(np.vstack((X, Y)))"
   ]
  },
  {
   "cell_type": "code",
   "execution_count": 232,
   "id": "36c10e75",
   "metadata": {},
   "outputs": [
    {
     "name": "stdout",
     "output_type": "stream",
     "text": [
      "[[1 2]\n",
      " [5 6]\n",
      " [3 4]\n",
      " [7 8]]\n"
     ]
    }
   ],
   "source": [
    "print(np.hstack((X, Y)).reshape(4, -1))\n",
    "# -1 works on both rows and column for reshaping the matrix."
   ]
  },
  {
   "cell_type": "code",
   "execution_count": 233,
   "id": "ee7d4770",
   "metadata": {},
   "outputs": [],
   "source": [
    "a = np.random.randint(0, 20, 3)"
   ]
  },
  {
   "cell_type": "code",
   "execution_count": 247,
   "id": "f7879089",
   "metadata": {},
   "outputs": [
    {
     "data": {
      "text/plain": [
       "array([ 8, 15,  0])"
      ]
     },
     "execution_count": 247,
     "metadata": {},
     "output_type": "execute_result"
    }
   ],
   "source": [
    "a"
   ]
  },
  {
   "cell_type": "code",
   "execution_count": 250,
   "id": "c3733f80",
   "metadata": {},
   "outputs": [],
   "source": [
    "choice = np.random.choice(a)"
   ]
  },
  {
   "cell_type": "code",
   "execution_count": 251,
   "id": "1a6bdfec",
   "metadata": {},
   "outputs": [
    {
     "data": {
      "text/plain": [
       "15"
      ]
     },
     "execution_count": 251,
     "metadata": {},
     "output_type": "execute_result"
    }
   ],
   "source": [
    "choice"
   ]
  },
  {
   "cell_type": "code",
   "execution_count": null,
   "id": "2ca7a29e",
   "metadata": {},
   "outputs": [],
   "source": []
  }
 ],
 "metadata": {
  "kernelspec": {
   "display_name": "Python 3 (ipykernel)",
   "language": "python",
   "name": "python3"
  },
  "language_info": {
   "codemirror_mode": {
    "name": "ipython",
    "version": 3
   },
   "file_extension": ".py",
   "mimetype": "text/x-python",
   "name": "python",
   "nbconvert_exporter": "python",
   "pygments_lexer": "ipython3",
   "version": "3.10.9"
  }
 },
 "nbformat": 4,
 "nbformat_minor": 5
}
